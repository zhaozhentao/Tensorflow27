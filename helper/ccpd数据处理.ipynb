{
 "cells": [
  {
   "cell_type": "code",
   "execution_count": 30,
   "metadata": {
    "scrolled": true
   },
   "outputs": [],
   "source": [
    "import pathlib\n",
    "import os\n",
    "import json\n",
    "import pathlib\n",
    "from PIL import Image\n",
    "from matplotlib import pyplot as plt\n",
    "\n",
    "index = 0\n",
    "for p in pathlib.Path('./pic').glob('*'):\n",
    "    index += 1\n",
    "    os.mkdir(f\"./ccpd_resized/{index}\")\n",
    "    resized_image_path = f\"./ccpd_resized/{index}/{index}.jpg\"\n",
    "    \n",
    "    image = Image.open(p)\n",
    "    image.save(resized_image_path)\n",
    "    j = { 'shapes': [{\"points\": []}] }\n",
    "    for point in p.name.split('-')[3].split('_'):\n",
    "        ps = point.split('&')\n",
    "        j['shapes'][0]['points'].append([int(ps[0]), int(ps[1])])\n",
    "        \n",
    "    with open(f\"./ccpd_resized/{index}/{index}.json\", 'w') as obj:\n",
    "        json.dump(j, obj)  "
   ]
  },
  {
   "cell_type": "code",
   "execution_count": null,
   "metadata": {},
   "outputs": [],
   "source": []
  }
 ],
 "metadata": {
  "kernelspec": {
   "display_name": "Python 3",
   "language": "python",
   "name": "python3"
  },
  "language_info": {
   "codemirror_mode": {
    "name": "ipython",
    "version": 3
   },
   "file_extension": ".py",
   "mimetype": "text/x-python",
   "name": "python",
   "nbconvert_exporter": "python",
   "pygments_lexer": "ipython3",
   "version": "3.8.10"
  }
 },
 "nbformat": 4,
 "nbformat_minor": 2
}
